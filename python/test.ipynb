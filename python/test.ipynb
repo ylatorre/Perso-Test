{
 "cells": [
  {
   "cell_type": "code",
   "execution_count": null,
   "metadata": {
    "tags": []
   },
   "outputs": [],
   "source": [
    "chaine = str() # Crée une chaîne vide\n",
    "# On aurait obtenu le même résultat en tapant chaine = \"\"\n",
    "\n",
    "while chaine.lower() != \"q\":\n",
    "    print(\"Tapez 'Q' pour quitter...\")\n",
    "    chaine = input()\n",
    "\n",
    "print(\"Merci !\")"
   ]
  },
  {
   "cell_type": "code",
   "execution_count": null,
   "metadata": {
    "tags": []
   },
   "outputs": [],
   "source": [
    "prenom = \"Yvan\"\n",
    "nom = \"Latorre\"\n",
    "age = 21\n",
    "print(\"Je m'appelle {0} {1} et j'ai {2} ans.\".format(prenom, nom, age))"
   ]
  },
  {
   "cell_type": "code",
   "execution_count": null,
   "metadata": {
    "tags": []
   },
   "outputs": [],
   "source": [
    "prenom = \"Yvan\"\n",
    "nom = \"Latorre\"\n",
    "age = 21\n",
    "print(\"Je m'appelle {} {} et j'ai {} ans.\".format(prenom, nom, age))"
   ]
  },
  {
   "cell_type": "code",
   "execution_count": null,
   "metadata": {
    "tags": []
   },
   "outputs": [],
   "source": [
    "adresse = \"\"\"\n",
    "{no_rue}, {nom_rue}\n",
    " {code_postal} {nom_ville} ({pays})\n",
    "\"\"\".format(no_rue=5, nom_rue=\"rue des Postes\", code_postal=75003, nom_ville=\"Paris\", pays=\"France\")\n",
    "print(adresse)"
   ]
  },
  {
   "cell_type": "code",
   "execution_count": null,
   "metadata": {},
   "outputs": [],
   "source": [
    "mon_dictionnaire = {}\n",
    "mon_dictionnaire[\"pseudo\"] = \"dokoka\"\n",
    "mon_dictionnaire[\"mot de passe\"] = \"1234\"\n",
    "mon_dictionnaire"
   ]
  },
  {
   "cell_type": "code",
   "execution_count": null,
   "metadata": {},
   "outputs": [],
   "source": [
    "echiquier = {}\n",
    "echiquier['a', 1] = \"tour blanche\" # En bas à gauche de l'échiquier\n",
    "echiquier['b', 1] = \"cavalier blanc\" # À droite de la tour\n",
    "echiquier['c', 1] = \"fou blanc\" # À droite du cavalier\n",
    "echiquier['d', 1] = \"reine blanche\" # À droite du fou\n",
    "# ... Première ligne des blancs\n",
    "echiquier['a', 2] = \"pion blanc\" # Devant la tour\n",
    "echiquier['b', 2] = \"pion blanc\" # Devant le cavalier, à droite du pion\n",
    "# ... Seconde ligne des blancs\n",
    "echiquier"
   ]
  },
  {
   "cell_type": "code",
   "execution_count": null,
   "metadata": {},
   "outputs": [],
   "source": [
    "placard = {\"chemise\":3, \"pantalon\":6, \"tee-shirt\":7}\n",
    "placard"
   ]
  },
  {
   "cell_type": "code",
   "execution_count": null,
   "metadata": {},
   "outputs": [],
   "source": [
    "del echiquier[\"a\",1]\n",
    "placard.pop('chemise')\n",
    "echiquier.pop(('b',1))"
   ]
  },
  {
   "cell_type": "code",
   "execution_count": null,
   "metadata": {
    "tags": []
   },
   "outputs": [],
   "source": [
    "print_2 = print # L'objet print_2 pointera sur la fonction print\n",
    "print_2(\"Affichons un message\")\n"
   ]
  },
  {
   "cell_type": "code",
   "execution_count": null,
   "metadata": {
    "tags": []
   },
   "outputs": [],
   "source": [
    "def fete():\n",
    "    print(\"C'est la fête.\")\n",
    "\n",
    "def oiseau():\n",
    "    print(\"Fais comme l'oiseau...\")\n",
    "\n",
    "fonctions = {}\n",
    "fonctions[\"fete\"] = fete # on ne met pas les parenthèses\n",
    "fonctions[\"oiseau\"] = oiseau\n",
    "print(fonctions[\"oiseau\"])\n",
    "\n",
    "fonctions[\"oiseau\"]() # on essaye de l'appeler\n",
    "\n"
   ]
  },
  {
   "cell_type": "code",
   "execution_count": null,
   "metadata": {
    "tags": []
   },
   "outputs": [],
   "source": [
    "fruits = {\"pommes\":21, \"melons\":3, \"poires\":31}\n",
    "for cle in fruits:\n",
    "    print(cle)\n"
   ]
  },
  {
   "cell_type": "code",
   "execution_count": null,
   "metadata": {
    "tags": []
   },
   "outputs": [],
   "source": [
    "fruits = {\"pommes\":21, \"melons\":3, \"poires\":31}\n",
    "for cle in fruits.keys():\n",
    "    print(cle)\n",
    "for valeur in fruits.values():\n",
    "    print(valeur)\n",
    "\n",
    "if 21 in fruits.values():\n",
    "    print(\"Un des fruits se trouve dans la quantité 21.\")\n",
    "for cle, valeur in fruits.items():\n",
    "    print(\"La clé {} contient la valeur {}.\".format(cle, valeur))"
   ]
  },
  {
   "cell_type": "code",
   "execution_count": null,
   "metadata": {},
   "outputs": [],
   "source": [
    ">>> def fonction_inconnue(**parametres_nommes):\n",
    "...     \"\"\"Fonction permettant de voir comment récupérer les paramètres nommés\n",
    "...     dans un dictionnaire\"\"\"\n",
    "...     \n",
    "...     \n",
    "...     print(\"J'ai reçu en paramètres nommés : {}.\".format(parametres_nommes))\n",
    "... \n",
    ">>> fonction_inconnue() # Aucun paramètre\n",
    "J'ai reçu en paramètres nommés : {}\n",
    ">>> fonction_inconnue(p=4, j=8)\n",
    "J'ai reçu en paramètres nommés : {'p': 4, 'j': 8}\n",
    ">>>"
   ]
  },
  {
   "cell_type": "code",
   "execution_count": null,
   "metadata": {
    "tags": []
   },
   "outputs": [],
   "source": [
    "texte = \"tEsT de PLUSIEURS methOde.\"\n",
    "a.lower()\n",
    "a = texte.upper()\n",
    "print(a)\n",
    "print(texte.capitalize())\n",
    "print(texte.replace('PLUSIEURS','MOINS'))\n",
    "print(texte.find('de'))\n",
    "print(texte.find('chocolat'))\n"
   ]
  },
  {
   "cell_type": "code",
   "execution_count": null,
   "metadata": {
    "tags": []
   },
   "outputs": [],
   "source": [
    "import random\n",
    "for i in range(10):\n",
    "    print(random.gauss(0,1))"
   ]
  },
  {
   "cell_type": "code",
   "execution_count": null,
   "metadata": {},
   "outputs": [],
   "source": [
    "import numpy as np\n",
    "import math\n",
    "import random\n",
    "\n",
    "np.sqrt(16)\n",
    "x = np.full((10,20),4)\n",
    "x.shape\n",
    "x.size\n",
    "x.dtype\n",
    "x[0,1] = 3\n"
   ]
  },
  {
   "cell_type": "code",
   "execution_count": null,
   "metadata": {
    "tags": []
   },
   "outputs": [],
   "source": [
    "import numpy as np\n",
    "x = np.random.randint(1,10, size=1000000)\n",
    "def calcule_inverse(values):\n",
    "    output = np.empty(len(values))\n",
    "    for i in range(len(values)):\n",
    "        output[i] = 1.0/values[i]\n",
    "    return output\n",
    "# %timeit calcule_inverse(x) version de base\n",
    "%timeit (1.0/x) #version numpy plus compacte et plus rapide\n"
   ]
  },
  {
   "cell_type": "code",
   "execution_count": null,
   "metadata": {},
   "outputs": [],
   "source": [
    "import numpy as np\n",
    "import matplotlib.pyplot as plt\n",
    "\n",
    "x = np.linspace(0,10,1000)\n",
    "plt.rcParams.update({'font.size' : 15})\n",
    "plt.plot(x,np.sin(x), color='red',linestyle='dotted', label='sin(x)')\n",
    "plt.axis([0,10,-1,1])\n",
    "plt.title('Mon premier graf')\n",
    "plt.legend(loc='lower left')\n",
    "ax = plt.axes()\n",
    "ax.set(xlabel=\"x\",ylabel='sin(x)')"
   ]
  },
  {
   "cell_type": "code",
   "execution_count": null,
   "metadata": {},
   "outputs": [],
   "source": [
    "x1 = np.linspace(0,10,50)\n",
    "dy =0.2 #marge d'erreur\n",
    "y1 = np.sin(x1) + dy * np.random.randn(50)\n",
    "plt.errorbar(x1,y1,yerr=dy,fmt='.k')"
   ]
  },
  {
   "cell_type": "code",
   "execution_count": null,
   "metadata": {
    "tags": []
   },
   "outputs": [],
   "source": [
    "print(plt.style.available[:6])"
   ]
  },
  {
   "cell_type": "code",
   "execution_count": null,
   "metadata": {},
   "outputs": [],
   "source": [
    "import numpy as np\n",
    "import matplotlib.pyplot as plt\n",
    "fig = plt.figure(figsize=(12,8))\n",
    "x = np.linspace(0,10,1000)\n",
    "y = np.sin(x)\n",
    "for i in range(6):\n",
    "    fig.add_subplot(3,2,i+1)\n",
    "    plt.style.use(plt.style.available[i])\n",
    "    plt.plot(x,y)\n",
    "    plt.text(s=plt.style.available[i],x=5,y=1, color='red')"
   ]
  },
  {
   "cell_type": "code",
   "execution_count": null,
   "metadata": {},
   "outputs": [],
   "source": [
    "# Chanegr la taille de police par défaut\n",
    "plt.rcParams.update({'font.size': 15})\n",
    "\n",
    "fig = plt.figure()\n",
    "ax = plt.axes()\n",
    "# Couleur spécifiée par son nom, ligne solide\n",
    "plt.plot(x, np.sin(x - 0), color='blue', linestyle='solid', label='bleu')\n",
    "# Nom court pour la couleur, ligne avec des traits\n",
    "plt.plot(x, np.sin(x - 1), color='g', linestyle='dashed', label='vert')\n",
    "# Valeur de gris entre 0 et 1, des traits et des points\n",
    "plt.plot(x, np.sin(x - 2), color='0.75', linestyle='dashdot', label='gris')\n",
    "# Couleur spécifié en RGB, avec des points\n",
    "plt.plot(x, np.sin(x - 3), color='#FF0000', linestyle='dotted', label='rouge')\n",
    "\n",
    "# Les limites des axes, essayez aussi les arguments 'tight' et 'equal' \n",
    "# pour voir leur effet\n",
    "plt.axis([-1, 11, -1.5, 1.5]);\n",
    "\n",
    "# Les labels\n",
    "plt.title(\"Un exemple de graphe\")\n",
    "\n",
    "# La légende est générée à partir de l'argument label de la fonctio\n",
    "# plot. L'argument loc spécifie le placement de la légende\n",
    "plt.legend(loc='lower left');\n",
    "\n",
    "# Titres des axes\n",
    "ax = ax.set(xlabel='x', ylabel='sin(x)')"
   ]
  },
  {
   "cell_type": "code",
   "execution_count": 2,
   "metadata": {
    "tags": []
   },
   "outputs": [
    {
     "output_type": "error",
     "ename": "ValueError",
     "evalue": "The number of FixedLocator locations (7), usually from a call to set_ticks, does not match the number of ticklabels (6).",
     "traceback": [
      "\u001b[1;31m---------------------------------------------------------------------------\u001b[0m",
      "\u001b[1;31mValueError\u001b[0m                                Traceback (most recent call last)",
      "\u001b[1;32m<ipython-input-2-37cb06bd66d4>\u001b[0m in \u001b[0;36m<module>\u001b[1;34m\u001b[0m\n\u001b[0;32m     28\u001b[0m \u001b[0mmarqueurs\u001b[0m \u001b[1;33m=\u001b[0m \u001b[1;33m[\u001b[0m\u001b[1;33m-\u001b[0m\u001b[1;36m3\u001b[0m\u001b[1;33m,\u001b[0m \u001b[1;33m-\u001b[0m\u001b[1;36m2\u001b[0m\u001b[1;33m,\u001b[0m \u001b[1;33m-\u001b[0m\u001b[1;36m1\u001b[0m\u001b[1;33m,\u001b[0m \u001b[1;36m0\u001b[0m\u001b[1;33m,\u001b[0m \u001b[1;36m1\u001b[0m\u001b[1;33m,\u001b[0m \u001b[1;36m2\u001b[0m\u001b[1;33m,\u001b[0m \u001b[1;36m3\u001b[0m\u001b[1;33m]\u001b[0m\u001b[1;33m\u001b[0m\u001b[1;33m\u001b[0m\u001b[0m\n\u001b[0;32m     29\u001b[0m \u001b[0mxtick_labels\u001b[0m \u001b[1;33m=\u001b[0m \u001b[1;33m[\u001b[0m\u001b[1;34m'A'\u001b[0m\u001b[1;33m,\u001b[0m \u001b[1;34m'B'\u001b[0m\u001b[1;33m,\u001b[0m \u001b[1;34m'C'\u001b[0m\u001b[1;33m,\u001b[0m \u001b[1;34m'D'\u001b[0m\u001b[1;33m,\u001b[0m \u001b[1;34m'E'\u001b[0m\u001b[1;33m,\u001b[0m \u001b[1;34m'F'\u001b[0m\u001b[1;33m]\u001b[0m\u001b[1;33m\u001b[0m\u001b[1;33m\u001b[0m\u001b[0m\n\u001b[1;32m---> 30\u001b[1;33m \u001b[0mplt\u001b[0m\u001b[1;33m.\u001b[0m\u001b[0mxticks\u001b[0m\u001b[1;33m(\u001b[0m\u001b[0mmarqueurs\u001b[0m\u001b[1;33m,\u001b[0m \u001b[0mxtick_labels\u001b[0m\u001b[1;33m,\u001b[0m \u001b[0mrotation\u001b[0m\u001b[1;33m=\u001b[0m\u001b[1;36m30\u001b[0m\u001b[1;33m)\u001b[0m\u001b[1;33m\u001b[0m\u001b[1;33m\u001b[0m\u001b[0m\n\u001b[0m\u001b[0;32m     31\u001b[0m \u001b[1;33m\u001b[0m\u001b[0m\n\u001b[0;32m     32\u001b[0m \u001b[1;31m# Changer les couleur des marqueurs\u001b[0m\u001b[1;33m\u001b[0m\u001b[1;33m\u001b[0m\u001b[1;33m\u001b[0m\u001b[0m\n",
      "\u001b[1;32mc:\\Users\\Pc42\\Desktop\\python\\.venv\\lib\\site-packages\\matplotlib\\pyplot.py\u001b[0m in \u001b[0;36mxticks\u001b[1;34m(ticks, labels, **kwargs)\u001b[0m\n\u001b[0;32m   1640\u001b[0m         \u001b[0mlabels\u001b[0m \u001b[1;33m=\u001b[0m \u001b[0max\u001b[0m\u001b[1;33m.\u001b[0m\u001b[0mget_xticklabels\u001b[0m\u001b[1;33m(\u001b[0m\u001b[1;33m)\u001b[0m\u001b[1;33m\u001b[0m\u001b[1;33m\u001b[0m\u001b[0m\n\u001b[0;32m   1641\u001b[0m     \u001b[1;32melse\u001b[0m\u001b[1;33m:\u001b[0m\u001b[1;33m\u001b[0m\u001b[1;33m\u001b[0m\u001b[0m\n\u001b[1;32m-> 1642\u001b[1;33m         \u001b[0mlabels\u001b[0m \u001b[1;33m=\u001b[0m \u001b[0max\u001b[0m\u001b[1;33m.\u001b[0m\u001b[0mset_xticklabels\u001b[0m\u001b[1;33m(\u001b[0m\u001b[0mlabels\u001b[0m\u001b[1;33m,\u001b[0m \u001b[1;33m**\u001b[0m\u001b[0mkwargs\u001b[0m\u001b[1;33m)\u001b[0m\u001b[1;33m\u001b[0m\u001b[1;33m\u001b[0m\u001b[0m\n\u001b[0m\u001b[0;32m   1643\u001b[0m     \u001b[1;32mfor\u001b[0m \u001b[0ml\u001b[0m \u001b[1;32min\u001b[0m \u001b[0mlabels\u001b[0m\u001b[1;33m:\u001b[0m\u001b[1;33m\u001b[0m\u001b[1;33m\u001b[0m\u001b[0m\n\u001b[0;32m   1644\u001b[0m         \u001b[0ml\u001b[0m\u001b[1;33m.\u001b[0m\u001b[0mupdate\u001b[0m\u001b[1;33m(\u001b[0m\u001b[0mkwargs\u001b[0m\u001b[1;33m)\u001b[0m\u001b[1;33m\u001b[0m\u001b[1;33m\u001b[0m\u001b[0m\n",
      "\u001b[1;32mc:\\Users\\Pc42\\Desktop\\python\\.venv\\lib\\site-packages\\matplotlib\\axes\\_base.py\u001b[0m in \u001b[0;36mwrapper\u001b[1;34m(self, *args, **kwargs)\u001b[0m\n\u001b[0;32m     61\u001b[0m \u001b[1;33m\u001b[0m\u001b[0m\n\u001b[0;32m     62\u001b[0m         \u001b[1;32mdef\u001b[0m \u001b[0mwrapper\u001b[0m\u001b[1;33m(\u001b[0m\u001b[0mself\u001b[0m\u001b[1;33m,\u001b[0m \u001b[1;33m*\u001b[0m\u001b[0margs\u001b[0m\u001b[1;33m,\u001b[0m \u001b[1;33m**\u001b[0m\u001b[0mkwargs\u001b[0m\u001b[1;33m)\u001b[0m\u001b[1;33m:\u001b[0m\u001b[1;33m\u001b[0m\u001b[1;33m\u001b[0m\u001b[0m\n\u001b[1;32m---> 63\u001b[1;33m             \u001b[1;32mreturn\u001b[0m \u001b[0mget_method\u001b[0m\u001b[1;33m(\u001b[0m\u001b[0mself\u001b[0m\u001b[1;33m)\u001b[0m\u001b[1;33m(\u001b[0m\u001b[1;33m*\u001b[0m\u001b[0margs\u001b[0m\u001b[1;33m,\u001b[0m \u001b[1;33m**\u001b[0m\u001b[0mkwargs\u001b[0m\u001b[1;33m)\u001b[0m\u001b[1;33m\u001b[0m\u001b[1;33m\u001b[0m\u001b[0m\n\u001b[0m\u001b[0;32m     64\u001b[0m \u001b[1;33m\u001b[0m\u001b[0m\n\u001b[0;32m     65\u001b[0m         \u001b[0mwrapper\u001b[0m\u001b[1;33m.\u001b[0m\u001b[0m__module__\u001b[0m \u001b[1;33m=\u001b[0m \u001b[0mowner\u001b[0m\u001b[1;33m.\u001b[0m\u001b[0m__module__\u001b[0m\u001b[1;33m\u001b[0m\u001b[1;33m\u001b[0m\u001b[0m\n",
      "\u001b[1;32mc:\\Users\\Pc42\\Desktop\\python\\.venv\\lib\\site-packages\\matplotlib\\cbook\\deprecation.py\u001b[0m in \u001b[0;36mwrapper\u001b[1;34m(*args, **kwargs)\u001b[0m\n\u001b[0;32m    449\u001b[0m                 \u001b[1;34m\"parameter will become keyword-only %(removal)s.\"\u001b[0m\u001b[1;33m,\u001b[0m\u001b[1;33m\u001b[0m\u001b[1;33m\u001b[0m\u001b[0m\n\u001b[0;32m    450\u001b[0m                 name=name, obj_type=f\"parameter of {func.__name__}()\")\n\u001b[1;32m--> 451\u001b[1;33m         \u001b[1;32mreturn\u001b[0m \u001b[0mfunc\u001b[0m\u001b[1;33m(\u001b[0m\u001b[1;33m*\u001b[0m\u001b[0margs\u001b[0m\u001b[1;33m,\u001b[0m \u001b[1;33m**\u001b[0m\u001b[0mkwargs\u001b[0m\u001b[1;33m)\u001b[0m\u001b[1;33m\u001b[0m\u001b[1;33m\u001b[0m\u001b[0m\n\u001b[0m\u001b[0;32m    452\u001b[0m \u001b[1;33m\u001b[0m\u001b[0m\n\u001b[0;32m    453\u001b[0m     \u001b[1;32mreturn\u001b[0m \u001b[0mwrapper\u001b[0m\u001b[1;33m\u001b[0m\u001b[1;33m\u001b[0m\u001b[0m\n",
      "\u001b[1;32mc:\\Users\\Pc42\\Desktop\\python\\.venv\\lib\\site-packages\\matplotlib\\axis.py\u001b[0m in \u001b[0;36m_set_ticklabels\u001b[1;34m(self, labels, fontdict, minor, **kwargs)\u001b[0m\n\u001b[0;32m   1791\u001b[0m         \u001b[1;32mif\u001b[0m \u001b[0mfontdict\u001b[0m \u001b[1;32mis\u001b[0m \u001b[1;32mnot\u001b[0m \u001b[1;32mNone\u001b[0m\u001b[1;33m:\u001b[0m\u001b[1;33m\u001b[0m\u001b[1;33m\u001b[0m\u001b[0m\n\u001b[0;32m   1792\u001b[0m             \u001b[0mkwargs\u001b[0m\u001b[1;33m.\u001b[0m\u001b[0mupdate\u001b[0m\u001b[1;33m(\u001b[0m\u001b[0mfontdict\u001b[0m\u001b[1;33m)\u001b[0m\u001b[1;33m\u001b[0m\u001b[1;33m\u001b[0m\u001b[0m\n\u001b[1;32m-> 1793\u001b[1;33m         \u001b[1;32mreturn\u001b[0m \u001b[0mself\u001b[0m\u001b[1;33m.\u001b[0m\u001b[0mset_ticklabels\u001b[0m\u001b[1;33m(\u001b[0m\u001b[0mlabels\u001b[0m\u001b[1;33m,\u001b[0m \u001b[0mminor\u001b[0m\u001b[1;33m=\u001b[0m\u001b[0mminor\u001b[0m\u001b[1;33m,\u001b[0m \u001b[1;33m**\u001b[0m\u001b[0mkwargs\u001b[0m\u001b[1;33m)\u001b[0m\u001b[1;33m\u001b[0m\u001b[1;33m\u001b[0m\u001b[0m\n\u001b[0m\u001b[0;32m   1794\u001b[0m \u001b[1;33m\u001b[0m\u001b[0m\n\u001b[0;32m   1795\u001b[0m     \u001b[1;33m@\u001b[0m\u001b[0mcbook\u001b[0m\u001b[1;33m.\u001b[0m\u001b[0m_make_keyword_only\u001b[0m\u001b[1;33m(\u001b[0m\u001b[1;34m\"3.2\"\u001b[0m\u001b[1;33m,\u001b[0m \u001b[1;34m\"minor\"\u001b[0m\u001b[1;33m)\u001b[0m\u001b[1;33m\u001b[0m\u001b[1;33m\u001b[0m\u001b[0m\n",
      "\u001b[1;32mc:\\Users\\Pc42\\Desktop\\python\\.venv\\lib\\site-packages\\matplotlib\\axis.py\u001b[0m in \u001b[0;36mset_ticklabels\u001b[1;34m(self, ticklabels, minor, **kwargs)\u001b[0m\n\u001b[0;32m   1712\u001b[0m             \u001b[1;31m# remove all tick labels, so only error for > 0 ticklabels\u001b[0m\u001b[1;33m\u001b[0m\u001b[1;33m\u001b[0m\u001b[1;33m\u001b[0m\u001b[0m\n\u001b[0;32m   1713\u001b[0m             \u001b[1;32mif\u001b[0m \u001b[0mlen\u001b[0m\u001b[1;33m(\u001b[0m\u001b[0mlocator\u001b[0m\u001b[1;33m.\u001b[0m\u001b[0mlocs\u001b[0m\u001b[1;33m)\u001b[0m \u001b[1;33m!=\u001b[0m \u001b[0mlen\u001b[0m\u001b[1;33m(\u001b[0m\u001b[0mticklabels\u001b[0m\u001b[1;33m)\u001b[0m \u001b[1;32mand\u001b[0m \u001b[0mlen\u001b[0m\u001b[1;33m(\u001b[0m\u001b[0mticklabels\u001b[0m\u001b[1;33m)\u001b[0m \u001b[1;33m!=\u001b[0m \u001b[1;36m0\u001b[0m\u001b[1;33m:\u001b[0m\u001b[1;33m\u001b[0m\u001b[1;33m\u001b[0m\u001b[0m\n\u001b[1;32m-> 1714\u001b[1;33m                 raise ValueError(\n\u001b[0m\u001b[0;32m   1715\u001b[0m                     \u001b[1;34m\"The number of FixedLocator locations\"\u001b[0m\u001b[1;33m\u001b[0m\u001b[1;33m\u001b[0m\u001b[0m\n\u001b[0;32m   1716\u001b[0m                     \u001b[1;34mf\" ({len(locator.locs)}), usually from a call to\"\u001b[0m\u001b[1;33m\u001b[0m\u001b[1;33m\u001b[0m\u001b[0m\n",
      "\u001b[1;31mValueError\u001b[0m: The number of FixedLocator locations (7), usually from a call to set_ticks, does not match the number of ticklabels (6)."
     ]
    }
   ],
   "source": [
    "import numpy as np\n",
    "import matplotlib.pyplot as plt\n",
    "# On peut aussi tout personnaliser à la main\n",
    "x = np.random.randn(1000)\n",
    "\n",
    "plt.style.use('classic')\n",
    "fig=plt.figure(figsize=(5,3))\n",
    "ax = plt.axes(facecolor='#E6E6E6')\n",
    "\n",
    "# Afficher les ticks en dessous de l'axe\n",
    "ax.set_axisbelow(True)\n",
    "\n",
    "# Cadre en blanc\n",
    "plt.grid(color='w', linestyle='solid')\n",
    "\n",
    "# Cacher le cadre\n",
    "# ax.spines contient les lignes qui entourent la zone où les \n",
    "# données sont affichées.\n",
    "for spine in ax.spines.values():\n",
    "    spine.set_visible(False)\n",
    "    \n",
    "# Cacher les marqueurs en haut et à droite\n",
    "ax.xaxis.tick_bottom()\n",
    "ax.yaxis.tick_left()\n",
    "\n",
    "# Nous pouvons personnaliser les étiquettes des marqueurs\n",
    "# et leur appliquer une rotation\n",
    "marqueurs = [-3, -2, -1, 0, 1, 2, 3]\n",
    "xtick_labels = ['A', 'B', 'C', 'D', 'E', 'F']\n",
    "plt.xticks(marqueurs, xtick_labels, rotation=30)\n",
    "\n",
    "# Changer les couleur des marqueurs\n",
    "ax.tick_params(colors='gray', direction='out')\n",
    "for tick in ax.get_xticklabels():\n",
    "    tick.set_color('gray')\n",
    "for tick in ax.get_yticklabels():\n",
    "    tick.set_color('gray')\n",
    "    \n",
    "# Changer les couleur des barres\n",
    "ax.hist(x, edgecolor='#E6E6E6', color='#EE6666');"
   ]
  },
  {
   "cell_type": "code",
   "execution_count": 4,
   "metadata": {},
   "outputs": [],
   "source": [
    "import seaborn"
   ]
  },
  {
   "cell_type": "code",
   "execution_count": null,
   "metadata": {},
   "outputs": [],
   "source": []
  }
 ],
 "metadata": {
  "language_info": {
   "codemirror_mode": {
    "name": "ipython",
    "version": 3
   },
   "file_extension": ".py",
   "mimetype": "text/x-python",
   "name": "python",
   "nbconvert_exporter": "python",
   "pygments_lexer": "ipython3",
   "version": 3
  },
  "orig_nbformat": 2,
  "kernelspec": {
   "name": "python_defaultSpec_1596073936117",
   "display_name": "Python 3.8.3 32-bit ('.venv': venv)"
  }
 },
 "nbformat": 4,
 "nbformat_minor": 2
}